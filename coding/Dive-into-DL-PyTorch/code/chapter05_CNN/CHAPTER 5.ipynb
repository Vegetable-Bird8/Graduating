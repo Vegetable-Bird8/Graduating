{
 "cells": [
  {
   "cell_type": "markdown",
   "id": "177fb119",
   "metadata": {},
   "source": [
    "# 5.1 二维卷积层"
   ]
  },
  {
   "cell_type": "code",
   "execution_count": 43,
   "id": "090b0179",
   "metadata": {},
   "outputs": [],
   "source": [
    "import torch\n",
    "from torch import nn \n",
    "\n",
    "def corr2d(X, K):  # 本函数已保存在d2lzh_pytorch包中方便以后使用\n",
    "    h, w = K.shape\n",
    "    X, K = X.float(), K.float()\n",
    "    Y = torch.zeros((X.shape[0] - h + 1, X.shape[1] - w + 1))\n",
    "    for i in range(Y.shape[0]):\n",
    "        for j in range(Y.shape[1]):\n",
    "            Y[i, j] = (X[i: i + h, j: j + w] * K).sum()\n",
    "    return Y"
   ]
  },
  {
   "cell_type": "code",
   "execution_count": 44,
   "id": "84964b13",
   "metadata": {},
   "outputs": [],
   "source": [
    "X = torch.tensor([[5, 6, 2], [3, 4, 5], [6, 7, 8]])\n",
    "K = torch.tensor([[0, 4], [8, 3]])\n",
    "import time\n"
   ]
  },
  {
   "cell_type": "code",
   "execution_count": 45,
   "id": "cfc37293",
   "metadata": {},
   "outputs": [
    {
     "name": "stdout",
     "output_type": "stream",
     "text": [
      "Wall time: 0 ns\n"
     ]
    },
    {
     "data": {
      "text/plain": [
       "tensor([[ 60.,  55.],\n",
       "        [ 85., 100.]])"
      ]
     },
     "execution_count": 45,
     "metadata": {},
     "output_type": "execute_result"
    }
   ],
   "source": [
    "%%time\n",
    "corr2d(X,K)"
   ]
  },
  {
   "cell_type": "code",
   "execution_count": 54,
   "id": "f4e8f99c",
   "metadata": {},
   "outputs": [],
   "source": [
    "class Conv2D(nn.Module):\n",
    "    def __init__(self, kernel_size):\n",
    "        super(Conv2D, self).__init__()\n",
    "        self.weight = nn.Parameter(torch.randn(kernel_size))\n",
    "        self.bias = nn.Parameter(torch.randn(1))\n",
    "\n",
    "    def forward(self, x):\n",
    "        return corr2d(x, self.weight) + self.bias"
   ]
  },
  {
   "cell_type": "markdown",
   "id": "ea1b6d74",
   "metadata": {},
   "source": [
    "## 5.1.3 检测物体的边缘\n"
   ]
  },
  {
   "cell_type": "code",
   "execution_count": 55,
   "id": "4b865953",
   "metadata": {},
   "outputs": [
    {
     "data": {
      "text/plain": [
       "tensor([[1., 1., 0., 0., 0., 0., 1., 1.],\n",
       "        [1., 1., 0., 0., 0., 0., 1., 1.],\n",
       "        [1., 1., 0., 0., 0., 0., 1., 1.],\n",
       "        [1., 1., 0., 0., 0., 0., 1., 1.],\n",
       "        [1., 1., 0., 0., 0., 0., 1., 1.],\n",
       "        [1., 1., 0., 0., 0., 0., 1., 1.]])"
      ]
     },
     "execution_count": 55,
     "metadata": {},
     "output_type": "execute_result"
    }
   ],
   "source": [
    "X = torch.ones(6, 8)\n",
    "X[:, 2:6] = 0\n",
    "X"
   ]
  },
  {
   "cell_type": "code",
   "execution_count": 56,
   "id": "6284e8df",
   "metadata": {},
   "outputs": [],
   "source": [
    "K = torch.tensor([[1, -1]])"
   ]
  },
  {
   "cell_type": "code",
   "execution_count": 57,
   "id": "3457f060",
   "metadata": {},
   "outputs": [
    {
     "data": {
      "text/plain": [
       "tensor([[ 0.,  1.,  0.,  0.,  0., -1.,  0.],\n",
       "        [ 0.,  1.,  0.,  0.,  0., -1.,  0.],\n",
       "        [ 0.,  1.,  0.,  0.,  0., -1.,  0.],\n",
       "        [ 0.,  1.,  0.,  0.,  0., -1.,  0.],\n",
       "        [ 0.,  1.,  0.,  0.,  0., -1.,  0.],\n",
       "        [ 0.,  1.,  0.,  0.,  0., -1.,  0.]])"
      ]
     },
     "execution_count": 57,
     "metadata": {},
     "output_type": "execute_result"
    }
   ],
   "source": [
    "Y = corr2d(X, K)\n",
    "Y"
   ]
  },
  {
   "cell_type": "code",
   "execution_count": 58,
   "id": "bd1847ea",
   "metadata": {},
   "outputs": [
    {
     "name": "stdout",
     "output_type": "stream",
     "text": [
      "Step 5, loss 4.430\n",
      "Step 10, loss 1.191\n",
      "Step 15, loss 0.327\n",
      "Step 20, loss 0.091\n",
      "Step 25, loss 0.025\n",
      "Step 30, loss 0.007\n",
      "Step 35, loss 0.002\n",
      "Step 40, loss 0.001\n",
      "Step 45, loss 0.000\n",
      "Step 50, loss 0.000\n",
      "Step 55, loss 0.000\n",
      "Step 60, loss 0.000\n",
      "Step 65, loss 0.000\n",
      "Step 70, loss 0.000\n",
      "Step 75, loss 0.000\n",
      "Step 80, loss 0.000\n"
     ]
    }
   ],
   "source": [
    "# 构造一个核数组形状是(1, 2)的二维卷积层\n",
    "conv2d = Conv2D(kernel_size=(1, 2))\n",
    "\n",
    "step = 80\n",
    "lr = 0.01\n",
    "for i in range(step):\n",
    "    Y_hat = conv2d(X)\n",
    "    l = ((Y_hat - Y) ** 2).sum()\n",
    "    l.backward()\n",
    "    \n",
    "    # 梯度下降\n",
    "    conv2d.weight.data -= lr * conv2d.weight.grad\n",
    "    conv2d.bias.data -= lr * conv2d.bias.grad\n",
    "    \n",
    "    # 梯度清0\n",
    "    conv2d.weight.grad.fill_(0)\n",
    "    conv2d.bias.grad.fill_(0)\n",
    "    if (i + 1) % 5 == 0:\n",
    "        print('Step %d, loss %.3f' % (i + 1, l.item()))"
   ]
  },
  {
   "cell_type": "code",
   "execution_count": 53,
   "id": "f407aefc",
   "metadata": {},
   "outputs": [
    {
     "name": "stdout",
     "output_type": "stream",
     "text": [
      "weight:  tensor([[ 1.0000, -1.0000]])\n",
      "bias:  tensor([-1.9090e-08])\n"
     ]
    }
   ],
   "source": [
    "print(\"weight: \", conv2d.weight.data)\n",
    "print(\"bias: \", conv2d.bias.data)"
   ]
  },
  {
   "cell_type": "markdown",
   "id": "ffc86331",
   "metadata": {},
   "source": [
    "## 5.1.5 互相关运算和卷积运算\n",
    "互相关运算就是卷积运算"
   ]
  },
  {
   "cell_type": "markdown",
   "id": "67a6184c",
   "metadata": {},
   "source": [
    "# 5.2 填充和步幅\n",
    "步幅为1 无填充时\n",
    "输出形状为 （H - Kh +1，W - Kw +1）\n",
    "\n",
    "填充Ph行和Pw列 步幅为1时\n",
    "输出形状为 （H - Kh + Ph +1，W - Kw + Pw +1）\n",
    "Ph = Kh - 1 时，会有原输入有相同的高和宽\n",
    "\n",
    "当无填充， 步幅分别为 Sh 和 Sw时\n",
    "(H-Kh +Ph +Sh)/Sh"
   ]
  },
  {
   "cell_type": "markdown",
   "id": "82f8cd0b",
   "metadata": {},
   "source": [
    "# 5.3 多输入通道和多输出通道"
   ]
  },
  {
   "cell_type": "code",
   "execution_count": 48,
   "id": "a35c2f9d",
   "metadata": {},
   "outputs": [],
   "source": [
    "import torch\n",
    "from torch import nn\n",
    "import sys\n",
    "sys.path.append(\"..\")\n",
    "import d2lzh_pytorch as d2l"
   ]
  },
  {
   "cell_type": "code",
   "execution_count": 49,
   "id": "ebe76091",
   "metadata": {},
   "outputs": [],
   "source": [
    "def corr2d_multi_in(X,K):\n",
    "    # 沿着X和K的第零维分别计算再相加\n",
    "    res = d2l.corr2d(X[0,:,:],K[0,:,:])\n",
    "    for i in range(1,X.shape[0]):\n",
    "        res += d2l.corr2d(X[i, :, :], K[i, :, :])\n",
    "    return res"
   ]
  },
  {
   "cell_type": "code",
   "execution_count": 50,
   "id": "44c4bc7a",
   "metadata": {},
   "outputs": [
    {
     "data": {
      "text/plain": [
       "tensor([[ 56.,  72.],\n",
       "        [104., 120.]])"
      ]
     },
     "execution_count": 50,
     "metadata": {},
     "output_type": "execute_result"
    }
   ],
   "source": [
    "X = torch.tensor([[[0, 1, 2], [3, 4, 5], [6, 7, 8]],\n",
    "                 [[1, 2, 3], [4, 5, 6], [7, 8, 9]]])\n",
    "K = torch.tensor([[[0, 1], [2, 3]], [[1, 2], [3, 4]]])\n",
    "corr2d_multi_in(X, K)"
   ]
  },
  {
   "cell_type": "code",
   "execution_count": 51,
   "id": "1fb4c6d1",
   "metadata": {},
   "outputs": [],
   "source": [
    "def corr2d_multi_in_out(X, K):\n",
    "     # 对K的第0维遍历，每次同输⼊X做互相关计算。\n",
    "    # 所有结果使⽤stack函数合并在⼀起\n",
    "     return torch.stack([corr2d_multi_in(X, k) for k in K])"
   ]
  },
  {
   "cell_type": "code",
   "execution_count": 52,
   "id": "203edf3b",
   "metadata": {},
   "outputs": [
    {
     "data": {
      "text/plain": [
       "torch.Size([3, 2, 2, 2])"
      ]
     },
     "execution_count": 52,
     "metadata": {},
     "output_type": "execute_result"
    }
   ],
   "source": [
    "K = torch.stack([K, K + 1, K + 2])\n",
    "K.shape"
   ]
  },
  {
   "cell_type": "code",
   "execution_count": 53,
   "id": "350cb53d",
   "metadata": {},
   "outputs": [],
   "source": [
    "# 实现 1*1卷积层\n",
    "def corr2d_multi_in_out_1x1(X, K):\n",
    "    c_i,h,w = X.shape\n",
    "    c_o = K.shape[0]\n",
    "    X = X.view(c_i,h*w)   #flatten\n",
    "    K = K.view(c_o,c_i)\n",
    "    Y = torch.mm(K,X)  #全连接的矩阵乘法\n",
    "    return Y.view(c_o,h,w)"
   ]
  },
  {
   "cell_type": "code",
   "execution_count": 54,
   "id": "54ebff36",
   "metadata": {},
   "outputs": [
    {
     "name": "stdout",
     "output_type": "stream",
     "text": [
      "torch.Size([2, 3, 3])\n"
     ]
    },
    {
     "data": {
      "text/plain": [
       "True"
      ]
     },
     "execution_count": 54,
     "metadata": {},
     "output_type": "execute_result"
    }
   ],
   "source": [
    "X = torch.rand(3, 3, 3) \n",
    "\n",
    "K = torch.rand(2, 3, 1, 1)\n",
    "\n",
    "Y1 = corr2d_multi_in_out_1x1(X, K)\n",
    "Y2 = corr2d_multi_in_out(X, K)\n",
    "print(Y1.shape)\n",
    "(Y1 - Y2).norm().item() < 1e-6"
   ]
  },
  {
   "cell_type": "code",
   "execution_count": 80,
   "id": "48ddaa5c",
   "metadata": {},
   "outputs": [
    {
     "data": {
      "text/plain": [
       "tensor([[[[10.]]]])"
      ]
     },
     "execution_count": 80,
     "metadata": {},
     "output_type": "execute_result"
    }
   ],
   "source": [
    "X = torch.arange(16, dtype=torch.float).view((1, 1, 4, 4))\n",
    "X\n",
    "pool2d = nn.MaxPool2d(3)\n",
    "pool2d(X)"
   ]
  },
  {
   "cell_type": "code",
   "execution_count": 84,
   "id": "b7a8bd57",
   "metadata": {},
   "outputs": [
    {
     "data": {
      "text/plain": [
       "tensor([[[[ 0.,  1.,  2.,  3.],\n",
       "          [ 4.,  5.,  6.,  7.],\n",
       "          [ 8.,  9., 10., 11.],\n",
       "          [12., 13., 14., 15.]],\n",
       "\n",
       "         [[ 1.,  2.,  3.,  4.],\n",
       "          [ 5.,  6.,  7.,  8.],\n",
       "          [ 9., 10., 11., 12.],\n",
       "          [13., 14., 15., 16.]]]])"
      ]
     },
     "execution_count": 84,
     "metadata": {},
     "output_type": "execute_result"
    }
   ],
   "source": [
    "X = torch.arange(16, dtype=torch.float).view((1, 1, 4, 4))\n",
    "X = torch.cat((X, X + 1), dim=1) \n",
    "X"
   ]
  },
  {
   "cell_type": "code",
   "execution_count": 85,
   "id": "ac0c674f",
   "metadata": {},
   "outputs": [
    {
     "data": {
      "text/plain": [
       "tensor([[[[ 5.,  7.],\n",
       "          [13., 15.]],\n",
       "\n",
       "         [[ 6.,  8.],\n",
       "          [14., 16.]]]])"
      ]
     },
     "execution_count": 85,
     "metadata": {},
     "output_type": "execute_result"
    }
   ],
   "source": [
    "pool2d = nn.MaxPool2d(3, padding=1, stride=2)\n",
    "pool2d(X)"
   ]
  },
  {
   "cell_type": "markdown",
   "id": "2cb82e88",
   "metadata": {},
   "source": [
    "# 5.5 卷积神经网络\n",
    "卷积层块⾥的基本单位是卷积层后接最⼤池化层：卷积层⽤来识别图像⾥的空间模式，如线条和物体局部，之后的最⼤池化层则⽤来降低卷积层对位置的敏感性。卷积层块由两个这样的基本单位重复堆叠构成。在卷积层块中，每个卷积层都使⽤5*5的窗⼝，并在输出上使⽤sigmoid激活函数。第⼀个卷积层输出通道数为6\n",
    "第⼆个卷积层输出通道数则增加到16。这是因为第⼆个卷积层⽐第⼀个卷积层的输⼊的⾼和宽要⼩,所以增加输出通道使两个卷积层的参数尺⼨类似。\n",
    "卷积层块的两个最⼤池化层的窗⼝形状均为2*2 ，且步幅为2。由于池化窗⼝与步幅形状相同，池化窗⼝在输⼊上每次滑动所覆盖的区域互不重叠。"
   ]
  },
  {
   "cell_type": "code",
   "execution_count": 87,
   "id": "4ef2bd44",
   "metadata": {},
   "outputs": [],
   "source": [
    "import time \n",
    "import torch\n",
    "from torch import nn,optim\n",
    "import sys\n",
    "sys.path.append(\"..\")\n",
    "device = torch.device('cuda' if torch.cuda.is_available() else 'cpu')\n",
    "class LeNet(nn.Module):\n",
    "    def __init__(self):\n",
    "        super(LeNet,self).__init__()\n",
    "        self.conv = nn.Sequential(\n",
    "            nn.Conv2d(1,6,5),  # in_channel,out_channel,kernel_size\n",
    "            nn.Sigmoid(),\n",
    "            nn.MaxPool2d(2,2),  #kernel_size stride\n",
    "            nn.Conv2d(6,16,5),\n",
    "            nn.Sigmoid(),\n",
    "            nn.MaxPool2d(2,2)\n",
    "        )\n",
    "        # 全连接层\n",
    "        self.fc = nn.Sequential(\n",
    "            nn.Linear(16*4*4,120),  # batch_size = 256 \n",
    "            nn.Sigmoid(),\n",
    "            nn.Linear(120,84),\n",
    "            nn.Sigmoid(),\n",
    "            nn.Linear(84,10)\n",
    "        )\n",
    "    def forward(self,img):\n",
    "        feature = self.conv(img)\n",
    "        output = self.fc(feature.view(img.shape[0],-1))\n",
    "        #img.shape[0] = batch_size \n",
    "        return output"
   ]
  },
  {
   "cell_type": "code",
   "execution_count": 88,
   "id": "fd4f4e0c",
   "metadata": {},
   "outputs": [
    {
     "name": "stdout",
     "output_type": "stream",
     "text": [
      "LeNet(\n",
      "  (conv): Sequential(\n",
      "    (0): Conv2d(1, 6, kernel_size=(5, 5), stride=(1, 1))\n",
      "    (1): Sigmoid()\n",
      "    (2): MaxPool2d(kernel_size=2, stride=2, padding=0, dilation=1, ceil_mode=False)\n",
      "    (3): Conv2d(6, 16, kernel_size=(5, 5), stride=(1, 1))\n",
      "    (4): Sigmoid()\n",
      "    (5): MaxPool2d(kernel_size=2, stride=2, padding=0, dilation=1, ceil_mode=False)\n",
      "  )\n",
      "  (fc): Sequential(\n",
      "    (0): Linear(in_features=256, out_features=120, bias=True)\n",
      "    (1): Sigmoid()\n",
      "    (2): Linear(in_features=120, out_features=84, bias=True)\n",
      "    (3): Sigmoid()\n",
      "    (4): Linear(in_features=84, out_features=10, bias=True)\n",
      "  )\n",
      ")\n"
     ]
    }
   ],
   "source": [
    "net = LeNet()\n",
    "print(net)\n"
   ]
  },
  {
   "cell_type": "code",
   "execution_count": 89,
   "id": "cf2a97dd",
   "metadata": {},
   "outputs": [
    {
     "name": "stderr",
     "output_type": "stream",
     "text": [
      "D:\\anaconda3\\envs\\pytorch\\lib\\site-packages\\torchvision\\datasets\\mnist.py:498: UserWarning: The given NumPy array is not writeable, and PyTorch does not support non-writeable tensors. This means you can write to the underlying (supposedly non-writeable) NumPy array using the tensor. You may want to copy the array to protect its data or make it writeable before converting it to a tensor. This type of warning will be suppressed for the rest of this program. (Triggered internally at  ..\\torch\\csrc\\utils\\tensor_numpy.cpp:180.)\n",
      "  return torch.from_numpy(parsed.astype(m[2], copy=False)).view(*s)\n"
     ]
    }
   ],
   "source": [
    "batch_size = 256\n",
    "train_iter, test_iter =d2l.load_data_fashion_mnist(batch_size=batch_size)"
   ]
  },
  {
   "cell_type": "code",
   "execution_count": 97,
   "id": "f7bb71d4",
   "metadata": {},
   "outputs": [],
   "source": [
    "# 创建支持cuda计算的精度评估函数\n",
    "\n",
    "def evaluate_accuracy(data_iter,net,device = torch.device('cuda' if torch.cuda.is_available() else 'cpu')):\n",
    "    acc_sum,n= 0.0,0\n",
    "    with torch.no_grad():\n",
    "        #在该模块下，所有计算得出的tensor的requires_grad都自动设置为False。\n",
    "        for X,y in data_iter:\n",
    "            if isinstance(net,torch.nn.Module):\n",
    "                net.eval()   #评估模式 关闭dropout\n",
    "                acc_sum += (net(X.to(device)).argmax(dim=1) == y.to(device)).float().sum().cpu().item()\n",
    "                net.train()  #改回训练模式\n",
    "            else: # 自定义的模型, 3.13节之后不会用到, 不考虑GPU\n",
    "                if('is_training' in net.__code__.co_varnames): # 如果有is_training这个参数\n",
    "                    # 将is_training设置成False\n",
    "                    acc_sum += (net(X, is_training=False).argmax(dim=1) == y).float().sum().item() \n",
    "                else:\n",
    "                    acc_sum += (net(X).argmax(dim=1) == y).float().sum().item() \n",
    "            n += y.shape[0]\n",
    "    return acc_sum / n"
   ]
  },
  {
   "cell_type": "code",
   "execution_count": 98,
   "id": "e36df7a6",
   "metadata": {},
   "outputs": [],
   "source": [
    "def train_ch5(net, train_iter, test_iter, batch_size, optimizer, device, num_epochs):\n",
    "    net = net.to(device)\n",
    "    print(\"training on \", device)\n",
    "    loss = torch.nn.CrossEntropyLoss()\n",
    "    batch_count = 0\n",
    "    for epoch in range(num_epochs):\n",
    "        train_l_sum, train_acc_sum, n, start = 0.0, 0.0, 0, time.time()\n",
    "        for X, y in train_iter:\n",
    "            X = X.to(device)\n",
    "            y = y.to(device)\n",
    "            y_hat = net(X)\n",
    "            l = loss(y_hat, y)\n",
    "            optimizer.zero_grad()\n",
    "            l.backward()\n",
    "            optimizer.step()\n",
    "            train_l_sum += l.cpu().item()\n",
    "            train_acc_sum += (y_hat.argmax(dim=1) == y).sum().cpu().item()\n",
    "            n += y.shape[0]\n",
    "            batch_count += 1\n",
    "        test_acc = evaluate_accuracy(test_iter, net)\n",
    "        print('epoch %d, loss %.4f, train acc %.3f, test acc %.3f, time %.1f sec'\n",
    "              % (epoch + 1, train_l_sum / batch_count, train_acc_sum / n, test_acc, time.time() - start))"
   ]
  },
  {
   "cell_type": "code",
   "execution_count": 102,
   "id": "be4e5380",
   "metadata": {},
   "outputs": [
    {
     "name": "stdout",
     "output_type": "stream",
     "text": [
      "training on  cuda\n",
      "epoch 1, loss 0.2710, train acc 0.897, test acc 0.882, time 6.7 sec\n",
      "epoch 2, loss 0.1353, train acc 0.900, test acc 0.882, time 6.5 sec\n",
      "epoch 3, loss 0.0899, train acc 0.899, test acc 0.884, time 6.3 sec\n",
      "epoch 4, loss 0.0667, train acc 0.899, test acc 0.882, time 6.3 sec\n",
      "epoch 5, loss 0.0536, train acc 0.899, test acc 0.885, time 6.4 sec\n"
     ]
    }
   ],
   "source": [
    "lr, num_epochs = 0.001, 5\n",
    "optimizer = torch.optim.Adam(net.parameters(), lr=lr)\n",
    "train_ch5(net, train_iter, test_iter, batch_size, optimizer, device,num_epochs)"
   ]
  },
  {
   "cell_type": "markdown",
   "id": "2f7585cb",
   "metadata": {},
   "source": [
    "## 5.6.2 AlexNet \n",
    "第一：处理的图像大，使用卷积层更大，网络更深\n",
    "第二：改sigmoid为relu\n",
    "第三：使用丢弃法\n",
    "第四：引入大量的图像增广，例如翻转、剪裁和颜色变化。进一步扩大数据集来缓解过拟合"
   ]
  },
  {
   "cell_type": "code",
   "execution_count": 9,
   "id": "fc0a08a6",
   "metadata": {},
   "outputs": [
    {
     "name": "stdout",
     "output_type": "stream",
     "text": [
      "1.9.1\n",
      "0.10.1\n",
      "cuda\n"
     ]
    }
   ],
   "source": [
    "import time\n",
    "import torch\n",
    "from torch import nn, optim\n",
    "import torchvision\n",
    "\n",
    "import sys\n",
    "sys.path.append(\"..\") \n",
    "import d2lzh_pytorch as d2l\n",
    "device = torch.device('cuda' if torch.cuda.is_available() else 'cpu')\n",
    "\n",
    "print(torch.__version__)\n",
    "print(torchvision.__version__)\n",
    "print(device)"
   ]
  },
  {
   "cell_type": "code",
   "execution_count": 12,
   "id": "e1ff60e7",
   "metadata": {},
   "outputs": [],
   "source": [
    "class AlexNet(nn.Module):\n",
    "    def __init__(self):\n",
    "        super(AlexNet, self).__init__()\n",
    "        self.conv = nn.Sequential(\n",
    "            nn.Conv2d(1, 96, 11, 4), # in_channels, out_channels, kernel_size, stride, padding\n",
    "            nn.ReLU(),\n",
    "            nn.MaxPool2d(3, 2), # kernel_size, stride\n",
    "            # 减小卷积窗口，使用填充为2来使得输入与输出的高和宽一致，且增大输出通道数\n",
    "            nn.Conv2d(96, 256, 5, 1, 2),\n",
    "            nn.ReLU(),\n",
    "            nn.MaxPool2d(3, 2),\n",
    "            # 连续3个卷积层，且使用更小的卷积窗口。除了最后的卷积层外，进一步增大了输出通道数。\n",
    "            # 前两个卷积层后不使用池化层来减小输入的高和宽\n",
    "            nn.Conv2d(256, 384, 3, 1, 1),\n",
    "            nn.ReLU(),\n",
    "            nn.Conv2d(384, 384, 3, 1, 1),\n",
    "            nn.ReLU(),\n",
    "            nn.Conv2d(384, 256, 3, 1, 1),\n",
    "            nn.ReLU(),\n",
    "            nn.MaxPool2d(3, 2)\n",
    "        )\n",
    "         # 这里全连接层的输出个数比LeNet中的大数倍。使用丢弃层来缓解过拟合\n",
    "        self.fc = nn.Sequential(\n",
    "            nn.Linear(256*5*5, 4096),\n",
    "            nn.ReLU(),\n",
    "            nn.Dropout(0.5),\n",
    "            nn.Linear(4096, 4096),\n",
    "            nn.ReLU(),\n",
    "            nn.Dropout(0.5),\n",
    "            # 输出层。由于这里使用Fashion-MNIST，所以用类别数为10，而非论文中的1000\n",
    "            nn.Linear(4096, 10),\n",
    "        )\n",
    "\n",
    "    def forward(self, img):\n",
    "        feature = self.conv(img)\n",
    "        output = self.fc(feature.view(img.shape[0], -1))\n",
    "        return output"
   ]
  },
  {
   "cell_type": "code",
   "execution_count": 13,
   "id": "e7d84103",
   "metadata": {},
   "outputs": [
    {
     "name": "stdout",
     "output_type": "stream",
     "text": [
      "AlexNet(\n",
      "  (conv): Sequential(\n",
      "    (0): Conv2d(1, 96, kernel_size=(11, 11), stride=(4, 4))\n",
      "    (1): ReLU()\n",
      "    (2): MaxPool2d(kernel_size=3, stride=2, padding=0, dilation=1, ceil_mode=False)\n",
      "    (3): Conv2d(96, 256, kernel_size=(5, 5), stride=(1, 1), padding=(2, 2))\n",
      "    (4): ReLU()\n",
      "    (5): MaxPool2d(kernel_size=3, stride=2, padding=0, dilation=1, ceil_mode=False)\n",
      "    (6): Conv2d(256, 384, kernel_size=(3, 3), stride=(1, 1), padding=(1, 1))\n",
      "    (7): ReLU()\n",
      "    (8): Conv2d(384, 384, kernel_size=(3, 3), stride=(1, 1), padding=(1, 1))\n",
      "    (9): ReLU()\n",
      "    (10): Conv2d(384, 256, kernel_size=(3, 3), stride=(1, 1), padding=(1, 1))\n",
      "    (11): ReLU()\n",
      "    (12): MaxPool2d(kernel_size=3, stride=2, padding=0, dilation=1, ceil_mode=False)\n",
      "  )\n",
      "  (fc): Sequential(\n",
      "    (0): Linear(in_features=6400, out_features=4096, bias=True)\n",
      "    (1): ReLU()\n",
      "    (2): Dropout(p=0.5, inplace=False)\n",
      "    (3): Linear(in_features=4096, out_features=4096, bias=True)\n",
      "    (4): ReLU()\n",
      "    (5): Dropout(p=0.5, inplace=False)\n",
      "    (6): Linear(in_features=4096, out_features=10, bias=True)\n",
      "  )\n",
      ")\n"
     ]
    }
   ],
   "source": [
    "net_Alex = AlexNet()\n",
    "print(net_Alex)"
   ]
  },
  {
   "cell_type": "code",
   "execution_count": 14,
   "id": "d344f9a3",
   "metadata": {},
   "outputs": [],
   "source": [
    "# 本函数已保存在d2lzh_pytorch包中方便以后使用\n",
    "def load_data_fashion_mnist(batch_size, resize=None, root='~/Datasets/FashionMNIST'):\n",
    "    \"\"\"Download the fashion mnist dataset and then load into memory.\"\"\"\n",
    "    trans = []\n",
    "    if resize:\n",
    "        trans.append(torchvision.transforms.Resize(size=resize))\n",
    "    trans.append(torchvision.transforms.ToTensor())\n",
    "    \n",
    "    transform = torchvision.transforms.Compose(trans)\n",
    "    mnist_train = torchvision.datasets.FashionMNIST(root=root, train=True, download=True, transform=transform)\n",
    "    mnist_test = torchvision.datasets.FashionMNIST(root=root, train=False, download=True, transform=transform)\n",
    "\n",
    "    train_iter = torch.utils.data.DataLoader(mnist_train, batch_size=batch_size, shuffle=True, num_workers=4)\n",
    "    test_iter = torch.utils.data.DataLoader(mnist_test, batch_size=batch_size, shuffle=False, num_workers=4)\n",
    "\n",
    "    return train_iter, test_iter"
   ]
  },
  {
   "cell_type": "code",
   "execution_count": 15,
   "id": "cdd2a6c9",
   "metadata": {},
   "outputs": [],
   "source": [
    "batch_size = 128\n",
    "\n",
    "train_iter, test_iter = load_data_fashion_mnist(batch_size,resize=224)"
   ]
  },
  {
   "cell_type": "code",
   "execution_count": 17,
   "id": "24cd87c1",
   "metadata": {},
   "outputs": [
    {
     "name": "stdout",
     "output_type": "stream",
     "text": [
      "training on  cuda\n",
      "epoch 1, loss 0.6328, train acc 0.760, test acc 0.856, time 81.1 sec\n",
      "epoch 2, loss 0.3361, train acc 0.874, test acc 0.886, time 51.9 sec\n",
      "epoch 3, loss 0.2916, train acc 0.893, test acc 0.892, time 52.1 sec\n",
      "epoch 4, loss 0.2601, train acc 0.903, test acc 0.902, time 52.5 sec\n",
      "epoch 5, loss 0.2380, train acc 0.911, test acc 0.907, time 52.1 sec\n"
     ]
    }
   ],
   "source": [
    "lr, num_epochs = 0.001, 5\n",
    "optimizer = torch.optim.Adam(net_Alex.parameters(), lr=lr)\n",
    "d2l.train_ch5(net_Alex, train_iter, test_iter, batch_size, optimizer,device, num_epochs)"
   ]
  },
  {
   "cell_type": "markdown",
   "id": "48847b40",
   "metadata": {},
   "source": [
    "可以看到精度明显提升 ，同样的五个周期\n",
    "\n",
    "VGG使用可重复的网络\n",
    "## 5.7.1 VGG块\n",
    "VGG块的组成规律是：连续使用数个相同的填充为1、窗⼝形状为3×3的卷积层后接上⼀个步幅为2、窗口形状为2×2的最⼤池化层。<br>\n",
    "卷积层保持输⼊的高和宽不变，⽽池化层则对其减半。<br>\n",
    "我们使⽤ vgg_block 函数来实现这个基础的VGG块，它可以指定卷积层的数量和输⼊输出通道数。"
   ]
  },
  {
   "cell_type": "code",
   "execution_count": 18,
   "id": "7fd90b08",
   "metadata": {},
   "outputs": [],
   "source": [
    "def vgg_block(num_convs,in_c,out_c):\n",
    "    blk = []\n",
    "    for i in range(num_convs):\n",
    "        if i == 0:\n",
    "            blk.append(nn.Conv2d(in_c,out_c,kernel_size = 3,padding = 1))\n",
    "        else:\n",
    "            blk.append(nn.Conv2d(out_c,out_c,kernel_size=3,padding =1))\n",
    "            blk.append(nn.ReLU())\n",
    "    blk.append(nn.MaxPool2d(kernel_size=2,stride = 2))#这里会使宽高减半\n",
    "    \n",
    "    return nn.Sequential(*blk)\n",
    "                      "
   ]
  },
  {
   "cell_type": "markdown",
   "id": "f23bb8c2",
   "metadata": {},
   "source": [
    "现在我们构造⼀个VGG⽹络。它有5个卷积块，前2块使⽤单卷积层，⽽后3块使⽤双卷积层。<br>\n",
    "第⼀块的输⼊输出通道分别是1（因为下⾯要使⽤的Fashion-MNIST数据的通道数为1）和64，之后每次对输出通道数翻倍，直到变为512。<br>\n",
    "因为这个⽹络使⽤了8个卷积层和3个全连接层，所以经常被称为VGG-11。"
   ]
  },
  {
   "cell_type": "code",
   "execution_count": 30,
   "id": "d8a0c2d3",
   "metadata": {},
   "outputs": [],
   "source": [
    "conv_arch = ((1, 1, 64), (1, 64, 128), (2, 128, 256), (2, 256, 512),(2, 512, 512))\n",
    "#经过五个vgg_block 宽高会减半5次 变成224/32 =7\n",
    "fc_features = 512 *7*7 # c * w * h\n",
    "fc_hidden_units = 4096# 任意\n"
   ]
  },
  {
   "cell_type": "code",
   "execution_count": 31,
   "id": "787e4cec",
   "metadata": {},
   "outputs": [],
   "source": [
    "def vgg(conv_arch,fc_features,fc_hidden_units = 4096):\n",
    "    net = nn.Sequential()\n",
    "    # 卷积层部分\n",
    "    for i,(num_convs,in_channels,out_channels) in enumerate(conv_arch):\n",
    "        #每经过一个vgg_Block都会使宽高减半\n",
    "        net.add_module(\"vgg_block_\"+str(i+1),vgg_block(num_convs,in_channels,out_channels))\n",
    "    net.add_module(\"fc\",nn.Sequential(d2l.FlattenLayer(),\n",
    "                                     nn.Linear(fc_features,fc_hidden_units),\n",
    "                                     nn.ReLU(),\n",
    "                                     nn.Dropout(0.5),\n",
    "                                      nn.Linear(fc_hidden_units,fc_hidden_units),\n",
    "                                      nn.ReLU(),\n",
    "                                      nn.Dropout(0.5),\n",
    "                                     nn.Linear(fc_hidden_units, 10)\n",
    "                                     ))    \n",
    "    return net"
   ]
  },
  {
   "cell_type": "code",
   "execution_count": 32,
   "id": "61b60b6d",
   "metadata": {},
   "outputs": [
    {
     "name": "stdout",
     "output_type": "stream",
     "text": [
      "vgg_block_1 output shape: torch.Size([1, 64, 112, 112])\n",
      "vgg_block_2 output shape: torch.Size([1, 128, 56, 56])\n",
      "vgg_block_3 output shape: torch.Size([1, 256, 28, 28])\n",
      "vgg_block_4 output shape: torch.Size([1, 512, 14, 14])\n",
      "vgg_block_5 output shape: torch.Size([1, 512, 7, 7])\n",
      "fc output shape: torch.Size([1, 10])\n"
     ]
    }
   ],
   "source": [
    "net = vgg(conv_arch, fc_features, fc_hidden_units) \n",
    "X = torch.rand(1, 1, 224, 224)\n",
    "# named_children获取⼀级⼦模块及其名字\n",
    "#(named_modules会返回所有⼦模块,包括⼦模块的⼦模块)\n",
    "for name,blk in net.named_children():\n",
    "    X = blk(X)\n",
    "    print(name,'output shape:',X.shape)"
   ]
  },
  {
   "cell_type": "code",
   "execution_count": 33,
   "id": "cd4a601e",
   "metadata": {},
   "outputs": [
    {
     "name": "stdout",
     "output_type": "stream",
     "text": [
      "Sequential(\n",
      "  (vgg_block_1): Sequential(\n",
      "    (0): Conv2d(1, 8, kernel_size=(3, 3), stride=(1, 1), padding=(1, 1))\n",
      "    (1): MaxPool2d(kernel_size=2, stride=2, padding=0, dilation=1, ceil_mode=False)\n",
      "  )\n",
      "  (vgg_block_2): Sequential(\n",
      "    (0): Conv2d(8, 16, kernel_size=(3, 3), stride=(1, 1), padding=(1, 1))\n",
      "    (1): MaxPool2d(kernel_size=2, stride=2, padding=0, dilation=1, ceil_mode=False)\n",
      "  )\n",
      "  (vgg_block_3): Sequential(\n",
      "    (0): Conv2d(16, 32, kernel_size=(3, 3), stride=(1, 1), padding=(1, 1))\n",
      "    (1): Conv2d(32, 32, kernel_size=(3, 3), stride=(1, 1), padding=(1, 1))\n",
      "    (2): ReLU()\n",
      "    (3): MaxPool2d(kernel_size=2, stride=2, padding=0, dilation=1, ceil_mode=False)\n",
      "  )\n",
      "  (vgg_block_4): Sequential(\n",
      "    (0): Conv2d(32, 64, kernel_size=(3, 3), stride=(1, 1), padding=(1, 1))\n",
      "    (1): Conv2d(64, 64, kernel_size=(3, 3), stride=(1, 1), padding=(1, 1))\n",
      "    (2): ReLU()\n",
      "    (3): MaxPool2d(kernel_size=2, stride=2, padding=0, dilation=1, ceil_mode=False)\n",
      "  )\n",
      "  (vgg_block_5): Sequential(\n",
      "    (0): Conv2d(64, 64, kernel_size=(3, 3), stride=(1, 1), padding=(1, 1))\n",
      "    (1): Conv2d(64, 64, kernel_size=(3, 3), stride=(1, 1), padding=(1, 1))\n",
      "    (2): ReLU()\n",
      "    (3): MaxPool2d(kernel_size=2, stride=2, padding=0, dilation=1, ceil_mode=False)\n",
      "  )\n",
      "  (fc): Sequential(\n",
      "    (0): FlattenLayer()\n",
      "    (1): Linear(in_features=3136, out_features=512, bias=True)\n",
      "    (2): ReLU()\n",
      "    (3): Dropout(p=0.5, inplace=False)\n",
      "    (4): Linear(in_features=512, out_features=512, bias=True)\n",
      "    (5): ReLU()\n",
      "    (6): Dropout(p=0.5, inplace=False)\n",
      "    (7): Linear(in_features=512, out_features=10, bias=True)\n",
      "  )\n",
      ")\n"
     ]
    }
   ],
   "source": [
    "ratio = 8\n",
    "small_conv_arch = [(1, 1, 64//ratio), \n",
    "                    (1, 64//ratio, 128//ratio),\n",
    "                    (2, 128//ratio, 256//ratio),\n",
    "                    (2, 256//ratio, 512//ratio), \n",
    "                    (2, 512//ratio,512//ratio)]\n",
    "\n",
    "net = vgg(small_conv_arch, fc_features // ratio, fc_hidden_units //ratio)\n",
    "print(net)"
   ]
  },
  {
   "cell_type": "code",
   "execution_count": 35,
   "id": "fa091377",
   "metadata": {},
   "outputs": [
    {
     "name": "stdout",
     "output_type": "stream",
     "text": [
      "vgg_block_1 output shape: torch.Size([1, 8, 112, 112])\n",
      "vgg_block_2 output shape: torch.Size([1, 16, 56, 56])\n",
      "vgg_block_3 output shape: torch.Size([1, 32, 28, 28])\n",
      "vgg_block_4 output shape: torch.Size([1, 64, 14, 14])\n",
      "vgg_block_5 output shape: torch.Size([1, 64, 7, 7])\n",
      "fc output shape: torch.Size([1, 10])\n"
     ]
    }
   ],
   "source": [
    "X = torch.randn(1,1,224,224)\n",
    "for name,blk in net.named_children():\n",
    "    X = blk(X)\n",
    "    print(name,'output shape:',X.shape)"
   ]
  },
  {
   "cell_type": "code",
   "execution_count": 36,
   "id": "d7ea8d88",
   "metadata": {},
   "outputs": [
    {
     "name": "stdout",
     "output_type": "stream",
     "text": [
      "training on  cuda\n",
      "epoch 1, loss 0.5622, train acc 0.793, test acc 0.872, time 67.7 sec\n",
      "epoch 2, loss 0.3427, train acc 0.875, test acc 0.885, time 67.8 sec\n",
      "epoch 3, loss 0.3027, train acc 0.891, test acc 0.896, time 67.7 sec\n",
      "epoch 4, loss 0.2740, train acc 0.902, test acc 0.906, time 68.6 sec\n",
      "epoch 5, loss 0.2515, train acc 0.909, test acc 0.912, time 68.4 sec\n"
     ]
    }
   ],
   "source": [
    "batch_size = 64\n",
    "# 如出现“out of memory”的报错信息，可减⼩batch_size或resize\n",
    "train_iter, test_iter = d2l.load_data_fashion_mnist(batch_size,resize=224)\n",
    "lr, num_epochs = 0.001, 5\n",
    "optimizer = torch.optim.Adam(net.parameters(), lr=lr)\n",
    "d2l.train_ch5(net, train_iter, test_iter, batch_size, optimizer,device, num_epochs)"
   ]
  },
  {
   "attachments": {
    "image-2.png": {
     "image/png": "[encoded data removed]"
    }
   },
   "cell_type": "markdown",
   "id": "ad04a674",
   "metadata": {},
   "source": [
    "# 5.8 网络中的网络 NIN\n",
    "\n",
    "串联多个由卷积层和“全连接”层构成的⼩⽹络来构建⼀个深层⽹络。<br>\n",
    "卷积层的输⼊和输出通常是四维数组（样本，通道，⾼，宽），⽽全连接层的输⼊和输出则通常是⼆维数组（样本，特征）。如果想在全连接层后再接上卷积层，则需要将全连接层的输出变换为四维。<br>\n",
    "NIN使用1×1卷积层替代全连接层\n",
    "![image-2.png](attachment:image-2.png)"
   ]
  },
  {
   "cell_type": "code",
   "execution_count": 45,
   "id": "7a754fd1",
   "metadata": {},
   "outputs": [],
   "source": [
    "import torch.nn.functional as F\n",
    "def nin_block(in_channels,out_channels,kernel_size,stride,padding):\n",
    "    blk = nn.Sequential(\n",
    "        nn.Conv2d(in_channels,out_channels,kernel_size,stride,padding),\n",
    "        nn.ReLU(),\n",
    "        nn.Conv2d(out_channels,out_channels,kernel_size=1), #  1*1卷积层\n",
    "        nn.Conv2d(out_channels,out_channels,kernel_size = 1),\n",
    "        nn.ReLU(),\n",
    "        nn.Conv2d(out_channels,out_channels,kernel_size=1),\n",
    "        nn.ReLU()\n",
    "    )\n",
    "    return blk"
   ]
  },
  {
   "cell_type": "markdown",
   "id": "107bb0d9",
   "metadata": {},
   "source": [
    "除使⽤NiN块以外，NiN还有⼀个设计与AlexNet显著不同：<br>\n",
    "    NiN去掉了AlexNet最后的3个全连接层，取⽽代之地，NiN使⽤了输出通道数等于标签类别数的NiN块，然后使⽤全局平均池化层对每个通道中所有元素求平均并直接⽤于分类。这⾥的全局平均池化层即窗⼝形状等于输⼊空间维形状的平均池化层。<br>\n",
    "    NiN的这个设计的好处是可以显著减⼩模型参数尺⼨，从⽽缓解过拟合。然⽽该设计有时会造成获得有效模型的训练时间的增加。"
   ]
  },
  {
   "cell_type": "code",
   "execution_count": 46,
   "id": "c39200e7",
   "metadata": {},
   "outputs": [],
   "source": [
    "class GlobalAvgPool2d(nn.Module):\n",
    "    #全局平均池化层可以通过将池化窗口形状设置成输入的高和宽实现\n",
    "    def __init__(self):\n",
    "        super(GlobalAvgPool2d,self).__init__()\n",
    "    def forward(self,x):\n",
    "        return F.avg_pool2d(x, kernel_size=x.size()[2:])"
   ]
  },
  {
   "cell_type": "markdown",
   "id": "92ca1cc4",
   "metadata": {},
   "source": [
    "NiN模型"
   ]
  },
  {
   "cell_type": "code",
   "execution_count": 47,
   "id": "e0dc090a",
   "metadata": {},
   "outputs": [],
   "source": [
    "net = nn.Sequential(\n",
    "    nin_block(1,96,kernel_size=11,stride=4,padding = 0),\n",
    "    nn.MaxPool2d(kernel_size=3,stride=2),\n",
    "    nin_block(96,256,kernel_size=5,stride=1,padding = 2),\n",
    "    nn.MaxPool2d(kernel_size=3,stride = 2),\n",
    "    nin_block(256,384,kernel_size=3,stride=2,padding= 1),\n",
    "    nn.MaxPool2d(kernel_size=3,stride = 2),\n",
    "    nn.Dropout(0.5),\n",
    "    #标签类别数为10\n",
    "    nin_block(384,10,kernel_size=3,stride=1,padding=1),\n",
    "    d2l.GlobalAvgPool2d(),\n",
    "    d2l.FlattenLayer()\n",
    ")"
   ]
  },
  {
   "cell_type": "code",
   "execution_count": 44,
   "id": "a54561b3",
   "metadata": {},
   "outputs": [
    {
     "name": "stdout",
     "output_type": "stream",
     "text": [
      "0 output shape:  torch.Size([1, 96, 54, 54])\n",
      "1 output shape:  torch.Size([1, 96, 26, 26])\n",
      "2 output shape:  torch.Size([1, 256, 26, 26])\n",
      "3 output shape:  torch.Size([1, 256, 12, 12])\n",
      "4 output shape:  torch.Size([1, 384, 6, 6])\n",
      "5 output shape:  torch.Size([1, 384, 2, 2])\n",
      "6 output shape:  torch.Size([1, 384, 2, 2])\n",
      "7 output shape:  torch.Size([1, 10, 2, 2])\n",
      "8 output shape:  torch.Size([1, 10, 1, 1])\n",
      "9 output shape:  torch.Size([1, 10])\n"
     ]
    }
   ],
   "source": [
    "X = torch.rand(1, 1, 224, 224)\n",
    "for name, blk in net.named_children():\n",
    "     X = blk(X)\n",
    "     print(name, 'output shape: ', X.shape)"
   ]
  },
  {
   "cell_type": "code",
   "execution_count": 55,
   "id": "0276acef",
   "metadata": {},
   "outputs": [
    {
     "name": "stdout",
     "output_type": "stream",
     "text": [
      "training on  cuda\n",
      "epoch 1, loss 1.3570, train acc 0.502, test acc 0.726, time 97.8 sec\n",
      "epoch 2, loss 0.6738, train acc 0.760, test acc 0.788, time 98.3 sec\n",
      "epoch 3, loss 0.5498, train acc 0.798, test acc 0.802, time 98.2 sec\n",
      "epoch 4, loss 0.5004, train acc 0.816, test acc 0.824, time 98.0 sec\n",
      "epoch 5, loss 0.4766, train acc 0.823, test acc 0.830, time 98.5 sec\n"
     ]
    }
   ],
   "source": [
    "batch_size = 128\n",
    "# 如出现“out of memory”的报错信息，可减⼩batch_size或resize\n",
    "train_iter, test_iter = d2l.load_data_fashion_mnist(batch_size,resize=224)\n",
    "lr, num_epochs = 0.002, 5\n",
    "optimizer = torch.optim.Adam(net.parameters(), lr=lr)\n",
    "d2l.train_ch5(net, train_iter, test_iter, batch_size, optimizer,device, num_epochs)"
   ]
  },
  {
   "cell_type": "markdown",
   "id": "d792d858",
   "metadata": {},
   "source": [
    "# 5.9 GOOGLENet\n",
    "## 5.9.1基础卷积块  INCEPTION块\n"
   ]
  },
  {
   "cell_type": "code",
   "execution_count": 17,
   "id": "b4c1cb80",
   "metadata": {},
   "outputs": [],
   "source": [
    "import time\n",
    "import torch\n",
    "from torch import nn, optim\n",
    "import torch.nn.functional as F\n",
    "import sys\n",
    "sys.path.append(\"..\")\n",
    "import d2lzh_pytorch as d2l\n",
    "device = torch.device('cuda' if torch.cuda.is_available() else 'cpu')"
   ]
  },
  {
   "cell_type": "code",
   "execution_count": 18,
   "id": "0755b1ea",
   "metadata": {},
   "outputs": [],
   "source": [
    "class Inception(nn.Module):\n",
    "    # c1 -c4为每条线的层的输出通道数\n",
    "    def __init__(self,in_c,c1,c2,c3,c4):\n",
    "        \n",
    "        \n",
    "        super(Inception,self).__init__()\n",
    "        #线路1 单1×1卷积层\n",
    "        self.p1_1 = nn.Conv2d(in_c,c1,kernel_size = 1)\n",
    "        #线路2 1×1卷积层后接3×3卷积层\n",
    "        self.p2_1 = nn.Conv2d(in_c,c2[0],kernel_size=1)\n",
    "        self.p2_2 = nn.Conv2d(c2[0],c2[1],kernel_size=3,padding=1)  \n",
    "        # padiing 为1保证了输出图像的高宽不变\n",
    "        \n",
    "        # 线路3 1×1卷积层后接5×5卷积层\n",
    "        self.p3_1 = nn.Conv2d(in_c, c3[0], kernel_size=1)\n",
    "        self.p3_2 = nn.Conv2d(c3[0], c3[1], kernel_size=5,padding=2)\n",
    "        \n",
    "        # 线路4，3 x 3最⼤池化层后接1 x 1卷积层\n",
    "        self.p4_1 = nn.MaxPool2d(kernel_size=3, stride=1,padding=1)\n",
    "        self.p4_2 = nn.Conv2d(in_c, c4, kernel_size=1)\n",
    "        \n",
    "    def forward(self, x):\n",
    "        \n",
    "        p1 = F.relu(self.p1_1(x))\n",
    "        p2 = F.relu(self.p2_2(F.relu(self.p2_1(x))))\n",
    "        p3 = F.relu(self.p3_2(F.relu(self.p3_1(x))))\n",
    "        p4 = F.relu(self.p4_2(self.p4_1(x)))\n",
    "        return torch.cat((p1, p2, p3, p4), dim=1) \n",
    "        # 在通道维上连结输出"
   ]
  },
  {
   "cell_type": "markdown",
   "id": "94a0f46f",
   "metadata": {},
   "source": [
    "## 5.9.2 GOOGLENet 模型\n",
    "\n",
    "<p>GoogLeNet跟VGG⼀样，在主体卷积部分中使⽤5个模块（block），每个模块之间使⽤步幅为2的3×3最大池化层来减小输出高宽<br>\n",
    "最⼤池化层来减⼩输出⾼宽。<br>\n",
    "<b><i>1 第⼀模块使用⼀个64通道的7×7卷积层。</i></b>\n",
    "    </p>"
   ]
  },
  {
   "cell_type": "code",
   "execution_count": 19,
   "id": "fe8f88a7",
   "metadata": {},
   "outputs": [],
   "source": [
    "b1 = nn.Sequential(\n",
    "     nn.Conv2d(1, 64, kernel_size=7, stride=2,padding=3),\n",
    "     nn.ReLU(),\n",
    "     nn.MaxPool2d(kernel_size=3, stride=2, padding=1)\n",
    ")"
   ]
  },
  {
   "cell_type": "markdown",
   "id": "2458b549",
   "metadata": {},
   "source": [
    "<b><i>2 第二模块使用两个卷积层 \n",
    "    <br>首先是643通道的1×1卷积层 \n",
    "    <br>然后是将通道扩大三倍的3×3卷积层,对应Inception中的第二条线路</i></b>"
   ]
  },
  {
   "cell_type": "code",
   "execution_count": 20,
   "id": "24fc021a",
   "metadata": {},
   "outputs": [],
   "source": [
    "b2 = nn.Sequential(\n",
    "    nn.Conv2d(64,64,kernel_size=1),\n",
    "    nn.Conv2d(64,192,kernel_size=3,padding=1),\n",
    "    nn.MaxPool2d(kernel_size=3,stride=2,padding=1)\n",
    ")"
   ]
  },
  {
   "cell_type": "markdown",
   "id": "98035f6d",
   "metadata": {},
   "source": [
    "<b><i>3 第三模块串联2个完整的Inception块\n",
    "    <br>第一个Inception块输出通道数为64+128+32+32 = 256 比例为2：4：1：1。第二、三条线路先分别将输入通道数减少至96/192=1/2 和16/192 = 1/12 再接上第二层卷积层\n",
    "    <br>第二个Inception块输出通道数增至128+192+96+64 = 480，比例为4：6：3：2。 其中，第二、三条线路先将输入通道减小至128/256和32/256</i></b>"
   ]
  },
  {
   "cell_type": "code",
   "execution_count": 21,
   "id": "3ab5bc81",
   "metadata": {},
   "outputs": [],
   "source": [
    "b3 = nn.Sequential(\n",
    "    Inception(192,64,(96,128),(16,32),32),\n",
    "    Inception(256,128,(128,192),(32,96),64),\n",
    "    nn.MaxPool2d(kernel_size=3,stride=2,padding=1)\n",
    ")"
   ]
  },
  {
   "cell_type": "markdown",
   "id": "d40934a5",
   "metadata": {},
   "source": [
    "第四模块更加复杂。它串联了5个Inception块，其输出通道数分别是 192+208+48+64=512、160+224+64+64=512、128+156+64+64=512、112+288+64+64=528 和256+320+128+128=832。这些线路的通道数分配和第三模块中的类似，⾸先含3×3卷积层的第⼆条线路输出最多通道，其次是仅含1×1卷积层的第⼀条线路，之后是含5×5卷积层的第三条线路和含3×3最⼤池化层的第四条线路。其中第⼆、第三条线路都会先按⽐例减⼩通道数。这些⽐例在各\n",
    "个Inception块中都略有不同。"
   ]
  },
  {
   "cell_type": "code",
   "execution_count": 22,
   "id": "c47c7d60",
   "metadata": {},
   "outputs": [],
   "source": [
    "b4 = nn.Sequential(Inception(480, 192, (96, 208), (16, 48), 64),\n",
    "             Inception(512, 160, (112, 224), (24, 64), 64),\n",
    "             Inception(512, 128, (128, 256), (24, 64), 64),\n",
    "             Inception(512, 112, (144, 288), (32, 64), 64),\n",
    "             Inception(528, 256, (160, 320), (32, 128), 128),\n",
    "             nn.MaxPool2d(kernel_size=3, stride=2, padding=1))"
   ]
  },
  {
   "cell_type": "code",
   "execution_count": 23,
   "id": "3c7a520c",
   "metadata": {},
   "outputs": [],
   "source": [
    "b5 = nn.Sequential(Inception(832, 256, (160, 320), (32, 128), 128),\n",
    "                     Inception(832, 384, (192, 384), (48, 128), 128),\n",
    "                     d2l.GlobalAvgPool2d())\n",
    "net = nn.Sequential(b1, b2, b3, b4, b5,d2l.FlattenLayer(), nn.Linear(1024, 10))"
   ]
  },
  {
   "cell_type": "code",
   "execution_count": 24,
   "id": "a45992c7",
   "metadata": {},
   "outputs": [
    {
     "name": "stdout",
     "output_type": "stream",
     "text": [
      "output shape:  torch.Size([1, 64, 24, 24])\n",
      "output shape:  torch.Size([1, 192, 12, 12])\n",
      "output shape:  torch.Size([1, 480, 6, 6])\n",
      "output shape:  torch.Size([1, 832, 3, 3])\n",
      "output shape:  torch.Size([1, 1024, 1, 1])\n",
      "output shape:  torch.Size([1, 1024])\n",
      "output shape:  torch.Size([1, 10])\n"
     ]
    }
   ],
   "source": [
    "X = torch.rand(1, 1, 96, 96)\n",
    "for blk in net.children():\n",
    "    X = blk(X)\n",
    "    print('output shape: ', X.shape)"
   ]
  },
  {
   "cell_type": "code",
   "execution_count": 25,
   "id": "e43d5cc8",
   "metadata": {},
   "outputs": [
    {
     "name": "stdout",
     "output_type": "stream",
     "text": [
      "training on  cuda\n",
      "epoch 1, loss 0.9128, train acc 0.655, test acc 0.824, time 49.9 sec\n",
      "epoch 2, loss 0.4262, train acc 0.845, test acc 0.849, time 49.9 sec\n",
      "epoch 3, loss 0.3445, train acc 0.871, test acc 0.871, time 50.1 sec\n",
      "epoch 4, loss 0.2990, train acc 0.890, test acc 0.895, time 50.0 sec\n",
      "epoch 5, loss 0.2690, train acc 0.900, test acc 0.885, time 50.2 sec\n"
     ]
    }
   ],
   "source": [
    "batch_size = 128\n",
    "# 如出现“out of memory”的报错信息，可减⼩batch_size或resize\n",
    "train_iter, test_iter = d2l.load_data_fashion_mnist(batch_size,\n",
    "    resize=96)\n",
    "lr, num_epochs = 0.001, 5\n",
    "optimizer = torch.optim.Adam(net.parameters(), lr=lr)\n",
    "d2l.train_ch5(net, train_iter, test_iter, batch_size, optimizer,\n",
    "    device, num_epochs)"
   ]
  },
  {
   "cell_type": "markdown",
   "id": "65be48dd",
   "metadata": {},
   "source": [
    "# 5.10 批量归一化"
   ]
  },
  {
   "cell_type": "code",
   "execution_count": 26,
   "id": "2e058d5a",
   "metadata": {},
   "outputs": [],
   "source": [
    "def batch_norm(is_training,X,gamma,beta,moving_mean,moving_var,eps,momentum):\n",
    "    #判断当前模式是训练模式还是预测模式\n",
    "    if not is_training:\n",
    "        #如果是预测模式下 直接用传入的移动平均所得的均值和方差\n",
    "        X_hat = (X - moving_mean)/torch.sqrt(moving_var + eps)\n",
    "    else:\n",
    "        assert len(X.shape) in (2,4)\n",
    "        if len(X.shape) == 2 :\n",
    "            # 使用全连接层的情况 计算特征维上的均值和方差\n",
    "            mean = X.mean(dim = 0)\n",
    "            var = ((X - mean) **2).mean(dim = 0)\n",
    "        else:\n",
    "            #使用二维卷积层的情况  计算通道维上（axis = 1）的均值和方差\n",
    "            #这里需要保持X的形状方便后面做广播运算\n",
    "            mean = X.mean(dim=0,keepdim =True).mean(dim=2,keepdim=True).mean(dim=3,keepdim=True)\n",
    "            var = ((X - mean) ** 2).mean(dim=0,keepdim=True).mean(dim=2, keepdim=True).mean(dim=3, keepdim=True)\n",
    "        #训练模式下使用当前的均值和方差做标准化\n",
    "        X_hat = (X - mean) / torch.sqrt(var + eps)\n",
    "        #更新移动平均的均值和方差\n",
    "        moving_mean = momentum* moving_mean +(1.0-momentum)*mean\n",
    "        moving_var = momentum * moving_var + (1.0 - momentum) * var\n",
    "    Y=gamma*X_hat+beta #拉伸和便宜\n",
    "    return Y,moving_mean,moving_var"
   ]
  },
  {
   "cell_type": "markdown",
   "id": "a2b89b82",
   "metadata": {},
   "source": [
    "接下来，我们⾃定义⼀个 BatchNorm 层。<br>\n",
    "它保存参与求梯度和迭代的拉伸参数 gamma 和偏移参数 beta ，同时也维护移动平均得到的均值和⽅差，以便能够在模型预测时被使⽤。\n",
    "<br>BatchNorm 实例\n",
    "所需指定的 num_features 参数对于全连接层来说应为输出个数，对于卷积层来说则为输出通道数。该实例所需指定的 num_dims 参数对于全连接层和卷积层来说分别为2和4。"
   ]
  },
  {
   "cell_type": "code",
   "execution_count": 27,
   "id": "a5f8661a",
   "metadata": {},
   "outputs": [],
   "source": [
    "class BatchNorm(nn.Module):\n",
    "    def __init__(self, num_features, num_dims):\n",
    "        super(BatchNorm, self).__init__()\n",
    "        if num_dims == 2:\n",
    "            shape = (1, num_features)\n",
    "        else:\n",
    "            shape = (1, num_features, 1, 1)\n",
    "        # 参与求梯度和迭代的拉伸和偏移参数，分别初始化成0和1\n",
    "        self.gamma = nn.Parameter(torch.ones(shape))\n",
    "        self.beta = nn.Parameter(torch.zeros(shape))\n",
    "        # 不参与求梯度和迭代的变量，全在内存上初始化成0\n",
    "        self.moving_mean = torch.zeros(shape)\n",
    "        self.moving_var = torch.zeros(shape)\n",
    "    def forward(self, X):\n",
    "        # 如果X不在内存上，将moving_mean和moving_var复制到X所在显存上\n",
    "        if self.moving_mean.device != X.device:\n",
    "            self.moving_mean = self.moving_mean.to(X.device)\n",
    "            self.moving_var = self.moving_var.to(X.device)\n",
    "        # 保存更新过的moving_mean和moving_var, Module实例的traning属性默\n",
    "        # 认为true, 调⽤.eval()后设成false\n",
    "        Y, self.moving_mean, self.moving_var = batch_norm(self.training,X, self.gamma, self.beta, self.moving_mean,self.moving_var, eps=1e-5, momentum=0.9)\n",
    "        return Y\n"
   ]
  },
  {
   "cell_type": "markdown",
   "id": "0e2acf41",
   "metadata": {},
   "source": [
    "### 5.10.2.1 使用批量归一化层的LeNet"
   ]
  },
  {
   "cell_type": "code",
   "execution_count": 28,
   "id": "de4f9993",
   "metadata": {},
   "outputs": [],
   "source": [
    "net = nn.Sequential(\n",
    "    nn.Conv2d(1,6,5),\n",
    "    BatchNorm(6,num_dims=4),\n",
    "    nn.Sigmoid(),\n",
    "    nn.MaxPool2d(2,2),\n",
    "    nn.Conv2d(6,16,5),\n",
    "    nn.Sigmoid(),\n",
    "    nn.MaxPool2d(2,2),\n",
    "    d2l.FlattenLayer(),\n",
    "    nn.Linear(16*4*4,120),\n",
    "    BatchNorm(120, num_dims=2),\n",
    "    nn.Sigmoid(),\n",
    "    nn.Linear(120,84),\n",
    "    BatchNorm(84,num_dims=2),\n",
    "    nn.Sigmoid(),\n",
    "    nn.Linear(84,10)\n",
    ")"
   ]
  },
  {
   "cell_type": "code",
   "execution_count": 29,
   "id": "f73718b2",
   "metadata": {},
   "outputs": [
    {
     "name": "stdout",
     "output_type": "stream",
     "text": [
      "training on  cuda\n",
      "epoch 1, loss 0.9963, train acc 0.785, test acc 0.444, time 6.6 sec\n",
      "epoch 2, loss 0.4564, train acc 0.864, test acc 0.600, time 6.7 sec\n",
      "epoch 3, loss 0.3652, train acc 0.881, test acc 0.579, time 6.7 sec\n",
      "epoch 4, loss 0.3257, train acc 0.888, test acc 0.503, time 6.7 sec\n",
      "epoch 5, loss 0.3047, train acc 0.894, test acc 0.751, time 6.9 sec\n"
     ]
    }
   ],
   "source": [
    "batch_size = 256\n",
    "train_iter, test_iter = d2l.load_data_fashion_mnist(batch_size=batch_size)\n",
    "lr, num_epochs = 0.001, 5\n",
    "optimizer = torch.optim.Adam(net.parameters(), lr=lr)\n",
    "d2l.train_ch5(net, train_iter, test_iter, batch_size, optimizer,\n",
    "    device, num_epochs)"
   ]
  },
  {
   "cell_type": "code",
   "execution_count": 30,
   "id": "b7d27f00",
   "metadata": {},
   "outputs": [
    {
     "name": "stdout",
     "output_type": "stream",
     "text": [
      "training on  cuda\n",
      "epoch 1, loss 0.2770, train acc 0.903, test acc 0.711, time 6.5 sec\n",
      "epoch 2, loss 0.2622, train acc 0.908, test acc 0.329, time 6.3 sec\n",
      "epoch 3, loss 0.2546, train acc 0.910, test acc 0.729, time 6.4 sec\n",
      "epoch 4, loss 0.2493, train acc 0.912, test acc 0.705, time 6.4 sec\n",
      "epoch 5, loss 0.2422, train acc 0.913, test acc 0.824, time 6.6 sec\n"
     ]
    }
   ],
   "source": [
    "batch_size = 1024\n",
    "train_iter, test_iter = d2l.load_data_fashion_mnist(batch_size=batch_size)\n",
    "lr, num_epochs = 0.001, 5\n",
    "optimizer = torch.optim.Adam(net.parameters(), lr=lr)\n",
    "d2l.train_ch5(net, train_iter, test_iter, batch_size, optimizer,\n",
    "    device, num_epochs)"
   ]
  },
  {
   "cell_type": "code",
   "execution_count": 31,
   "id": "5772b590",
   "metadata": {},
   "outputs": [
    {
     "data": {
      "text/plain": [
       "(tensor([1.0728, 0.8296, 1.2879, 1.1250, 1.0230, 1.2766], device='cuda:0',\n",
       "        grad_fn=<ViewBackward>),\n",
       " tensor([-0.1382,  0.0011,  0.6114, -0.5360,  0.1439,  0.1978], device='cuda:0',\n",
       "        grad_fn=<ViewBackward>))"
      ]
     },
     "execution_count": 31,
     "metadata": {},
     "output_type": "execute_result"
    }
   ],
   "source": [
    "net[1].gamma.view((-1,)), net[1].beta.view((-1,))"
   ]
  },
  {
   "cell_type": "markdown",
   "id": "29fe8a2c",
   "metadata": {},
   "source": [
    "# 5.11 残差模块\n"
   ]
  },
  {
   "cell_type": "code",
   "execution_count": 2,
   "id": "97a8de10",
   "metadata": {},
   "outputs": [],
   "source": [
    "import time\n",
    "import torch\n",
    "from torch import nn, optim\n",
    "import torch.nn.functional as F\n",
    "import sys\n",
    "sys.path.append(\"..\")\n",
    "import d2lzh_pytorch as d2l\n",
    "device = torch.device('cuda' if torch.cuda.is_available() else 'cpu')\n",
    "\n",
    "class Residual(nn.Module):\n",
    "    def __init__(self,in_channels,out_channels,use_1conv = False,stride=1):\n",
    "        super(Residual,self).__init__()\n",
    "        self.conv1 = nn.Conv2d(in_channels,out_channels,kernel_size=3,padding=1,stride=stride)\n",
    "        self.conv2 = nn.Conv2d(out_channels,out_channels,kernel_size=3,padding=1)\n",
    "        if use_1conv:\n",
    "            self.conv3 = nn.Conv2d(in_channels,out_channels,kernel_size=1,stride=stride)\n",
    "            \n",
    "        else:\n",
    "            self.conv3 = None\n",
    "        self.bn1 = nn.BatchNorm2d(out_channels)\n",
    "        self.bn2 = nn.BatchNorm2d(out_channels)\n",
    "    def forward(self,X):\n",
    "        Y = F.relu(self.bn1(self.conv1(X)))\n",
    "        Y = self.bn2(self.conv2(Y))\n",
    "        if self.conv3:\n",
    "            X = self.conv3(X)\n",
    "        return F.relu(Y+X)\n",
    "    "
   ]
  },
  {
   "cell_type": "code",
   "execution_count": 3,
   "id": "d8632384",
   "metadata": {},
   "outputs": [
    {
     "data": {
      "text/plain": [
       "torch.Size([4, 3, 6, 6])"
      ]
     },
     "execution_count": 3,
     "metadata": {},
     "output_type": "execute_result"
    }
   ],
   "source": [
    "blk = Residual(3, 3) \n",
    "X = torch.rand((4, 3, 6, 6))\n",
    "blk(X).shape # torch.Size([4, 3, 6, 6])"
   ]
  },
  {
   "cell_type": "code",
   "execution_count": 4,
   "id": "753a9287",
   "metadata": {},
   "outputs": [
    {
     "data": {
      "text/plain": [
       "torch.Size([4, 6, 3, 3])"
      ]
     },
     "execution_count": 4,
     "metadata": {},
     "output_type": "execute_result"
    }
   ],
   "source": [
    "blk = Residual(3, 6, use_1conv=True, stride=2)\n",
    "blk(X).shape # torch.Size([4, 6, 3, 3])"
   ]
  },
  {
   "cell_type": "code",
   "execution_count": 5,
   "id": "d37db9cd",
   "metadata": {},
   "outputs": [],
   "source": [
    "net = nn.Sequential(\n",
    "    nn.Conv2d(1,64,kernel_size = 7,stride =2,padding = 3),\n",
    "    nn.BatchNorm2d(64),\n",
    "    nn.ReLU(),\n",
    "    nn.MaxPool2d(kernel_size=3,stride=2,padding =1)\n",
    ")"
   ]
  },
  {
   "cell_type": "code",
   "execution_count": 6,
   "id": "1cd2a814",
   "metadata": {},
   "outputs": [],
   "source": [
    "def resnet_block(in_channels,out_channels,num_residuals,first_block = False):\n",
    "    if first_block:\n",
    "        assert in_channels == out_channels #第一个模块的通道数同输入通道一致\n",
    "    blk = []\n",
    "    for i in range(num_residuals):\n",
    "        if i==0 and not first_block:  #如果i=0且不是首个模块 \n",
    "            blk.append(Residual(in_channels,out_channels,use_1conv=True,stride=2))\n",
    "        else:  # 如果i不等于0 或者是第一一个模块\n",
    "            blk.append(Residual(out_channels,out_channels))\n",
    "        return nn.Sequential(*blk)"
   ]
  },
  {
   "cell_type": "code",
   "execution_count": 7,
   "id": "80fd58ff",
   "metadata": {},
   "outputs": [],
   "source": [
    "net.add_module(\"resnet_block1\", resnet_block(64, 64, 2,first_block=True))\n",
    "net.add_module(\"resnet_block2\", resnet_block(64, 128, 2))\n",
    "net.add_module(\"resnet_block3\", resnet_block(128, 256, 2))\n",
    "net.add_module(\"resnet_block4\", resnet_block(256, 512, 2))"
   ]
  },
  {
   "cell_type": "code",
   "execution_count": 8,
   "id": "857316d8",
   "metadata": {},
   "outputs": [],
   "source": [
    "net.add_module(\"global_avg_pool\", d2l.GlobalAvgPool2d()) \n",
    "#GlobalAvgPool2d的输出: (Batch, 512, 1, 1)\n",
    "net.add_module(\"fc\", nn.Sequential(d2l.FlattenLayer(),nn.Linear(512, 10)))"
   ]
  },
  {
   "cell_type": "code",
   "execution_count": 9,
   "id": "15ea724d",
   "metadata": {},
   "outputs": [
    {
     "name": "stdout",
     "output_type": "stream",
     "text": [
      "0  output shape:\t torch.Size([1, 64, 112, 112])\n",
      "1  output shape:\t torch.Size([1, 64, 112, 112])\n",
      "2  output shape:\t torch.Size([1, 64, 112, 112])\n",
      "3  output shape:\t torch.Size([1, 64, 56, 56])\n",
      "resnet_block1  output shape:\t torch.Size([1, 64, 56, 56])\n",
      "resnet_block2  output shape:\t torch.Size([1, 128, 28, 28])\n",
      "resnet_block3  output shape:\t torch.Size([1, 256, 14, 14])\n",
      "resnet_block4  output shape:\t torch.Size([1, 512, 7, 7])\n",
      "global_avg_pool  output shape:\t torch.Size([1, 512, 1, 1])\n",
      "fc  output shape:\t torch.Size([1, 10])\n"
     ]
    }
   ],
   "source": [
    "X = torch.rand((1, 1, 224, 224))\n",
    "for name, layer in net.named_children():\n",
    "    X = layer(X)\n",
    "    print(name, ' output shape:\\t', X.shape)"
   ]
  },
  {
   "cell_type": "code",
   "execution_count": 10,
   "id": "22fee6c0",
   "metadata": {},
   "outputs": [],
   "source": [
    "net1 = nn.Sequential(\n",
    "    nn.Conv2d(1,64,kernel_size = 7,stride =2,padding = 3),\n",
    "    nn.MaxPool2d(kernel_size=3,stride=2,padding =1))"
   ]
  },
  {
   "cell_type": "code",
   "execution_count": 11,
   "id": "fbd3713a",
   "metadata": {},
   "outputs": [
    {
     "data": {
      "text/plain": [
       "torch.Size([1, 64, 56, 56])"
      ]
     },
     "execution_count": 11,
     "metadata": {},
     "output_type": "execute_result"
    }
   ],
   "source": [
    "X2 = torch.rand(1,1,224,224)\n",
    "X2= net1(X2)\n",
    "X2.shape"
   ]
  },
  {
   "cell_type": "code",
   "execution_count": 12,
   "id": "55169133",
   "metadata": {},
   "outputs": [
    {
     "name": "stderr",
     "output_type": "stream",
     "text": [
      "D:\\anaconda3\\envs\\pytorch\\lib\\site-packages\\torchvision\\datasets\\mnist.py:498: UserWarning: The given NumPy array is not writeable, and PyTorch does not support non-writeable tensors. This means you can write to the underlying (supposedly non-writeable) NumPy array using the tensor. You may want to copy the array to protect its data or make it writeable before converting it to a tensor. This type of warning will be suppressed for the rest of this program. (Triggered internally at  ..\\torch\\csrc\\utils\\tensor_numpy.cpp:180.)\n",
      "  return torch.from_numpy(parsed.astype(m[2], copy=False)).view(*s)\n"
     ]
    },
    {
     "name": "stdout",
     "output_type": "stream",
     "text": [
      "training on  cuda\n",
      "epoch 1, loss 0.3605, train acc 0.869, test acc 0.902, time 38.3 sec\n",
      "epoch 2, loss 0.2299, train acc 0.915, test acc 0.911, time 33.0 sec\n",
      "epoch 3, loss 0.1883, train acc 0.929, test acc 0.883, time 32.9 sec\n",
      "epoch 4, loss 0.1587, train acc 0.941, test acc 0.914, time 33.1 sec\n",
      "epoch 5, loss 0.1342, train acc 0.951, test acc 0.921, time 33.1 sec\n"
     ]
    }
   ],
   "source": [
    "batch_size = 256\n",
    "# 如出现“out of memory”的报错信息，可减⼩batch_size或resize\n",
    "train_iter, test_iter = d2l.load_data_fashion_mnist(batch_size,resize=96)\n",
    "lr, num_epochs = 0.001, 5\n",
    "optimizer = torch.optim.Adam(net.parameters(), lr=lr)\n",
    "d2l.train_ch5(net, train_iter, test_iter, batch_size, optimizer,device, num_epochs)"
   ]
  },
  {
   "cell_type": "markdown",
   "id": "1ba806f6",
   "metadata": {},
   "source": [
    "# 5.12 稠密连接网络 DENSENET\n",
    "与ResNet的主要区别在于，DenseNet⾥模块的输出不是像ResNet那样和模块 的输出相加，⽽是在通道维上连结。这样模块 的输出可以直接传⼊模块后⾯的层。在这个设计⾥，模块 直接跟模块 后⾯的所有层连接在了⼀起。这也是它被称\n",
    "为“稠密连接”的原因"
   ]
  },
  {
   "cell_type": "code",
   "execution_count": 16,
   "id": "de1ebe35",
   "metadata": {},
   "outputs": [],
   "source": [
    "# DenseNet使⽤了ResNet改良版的“批量归⼀化、激活和卷积”结构\n",
    "def conv_block(in_channels,out_channels):\n",
    "    blk = nn.Sequential(\n",
    "        nn.BatchNorm2d(in_channels),\n",
    "        nn.ReLU(),\n",
    "        nn.Conv2d(in_channels,out_channels,kernel_size = 3,padding = 1))\n",
    "    return blk"
   ]
  },
  {
   "cell_type": "code",
   "execution_count": 17,
   "id": "5e7a7d61",
   "metadata": {},
   "outputs": [],
   "source": [
    "# 稠密块由多个 conv_block 组成，每块使⽤相同的输出通道数。\n",
    "# 但在前向计算时，我们将每块的输⼊和输出在通道维上连结。\n",
    "class DenseBlock(nn.Module):\n",
    "    def __init__(self,num_convs,in_channels,out_channels):\n",
    "        super(DenseBlock,self).__init__()\n",
    "        net = []\n",
    "        for i in range(num_convs):\n",
    "            in_c = in_channels + i*out_channels\n",
    "            net.append(conv_block(in_c,out_channels))\n",
    "        self.net = nn.ModuleList(net)\n",
    "        self.out_channels = in_channels + num_convs*out_channels\n",
    "        #计算输出通道数\n",
    "        \n",
    "    def forward(self,x):\n",
    "        for blk in self.net:\n",
    "            y= blk(x)\n",
    "            x = torch.cat((x,y),dim = 1) \n",
    "        return x"
   ]
  },
  {
   "cell_type": "markdown",
   "id": "098190ca",
   "metadata": {},
   "source": [
    "在下⾯的例⼦中，我们定义⼀个有2个输出通道数为10的卷积块。使⽤通道数为3的输⼊时，我们会得到通道数为3+2×10 = 23的输出。卷积块的通道数控制了输出通道数相对于输⼊通道数的增⻓，因此\n",
    "也被称为增⻓率（growth rate）。\n"
   ]
  },
  {
   "cell_type": "code",
   "execution_count": 18,
   "id": "f645555c",
   "metadata": {},
   "outputs": [
    {
     "data": {
      "text/plain": [
       "torch.Size([4, 23, 8, 8])"
      ]
     },
     "execution_count": 18,
     "metadata": {},
     "output_type": "execute_result"
    }
   ],
   "source": [
    "blk = DenseBlock(2,3,10)\n",
    "X = torch.rand(4,3,8,8)\n",
    "Y= blk(X)\n",
    "Y.shape"
   ]
  },
  {
   "cell_type": "code",
   "execution_count": 22,
   "id": "0ec96767",
   "metadata": {},
   "outputs": [],
   "source": [
    "# 过渡层用来减少模型的通道数，并使得高和宽减半\n",
    "def transition_block(in_channels,out_channels):\n",
    "    blk = nn.Sequential(\n",
    "        nn.BatchNorm2d(in_channels),\n",
    "        nn.ReLU(),\n",
    "        nn.Conv2d(in_channels,out_channels,kernel_size =1),\n",
    "        nn.AvgPool2d(kernel_size=2,stride=2)\n",
    "    )\n",
    "    return blk"
   ]
  },
  {
   "cell_type": "code",
   "execution_count": 23,
   "id": "41452e79",
   "metadata": {},
   "outputs": [
    {
     "data": {
      "text/plain": [
       "torch.Size([4, 10, 4, 4])"
      ]
     },
     "execution_count": 23,
     "metadata": {},
     "output_type": "execute_result"
    }
   ],
   "source": [
    "blk2 = transition_block(23, 10)\n",
    "blk2(Y).shape # torch.Size([4, 10, 4, 4])"
   ]
  },
  {
   "cell_type": "code",
   "execution_count": 24,
   "id": "f9d72b05",
   "metadata": {},
   "outputs": [],
   "source": [
    "# 构造DENSENET模型\n",
    "net = nn.Sequential(\n",
    "    nn.Conv2d(1,64,kernel_size=7,stride=2,padding = 3),\n",
    "    nn.BatchNorm2d(64),\n",
    "    nn.ReLU(),\n",
    "    nn.MaxPool2d(kernel_size=3,stride=2,padding=1)\n",
    ")"
   ]
  },
  {
   "cell_type": "markdown",
   "id": "e7447d58",
   "metadata": {},
   "source": [
    "类似于ResNet接下来使⽤的4个残差块，DenseNet使⽤的是4个稠密块。同ResNet⼀样，我们可以设\n",
    "置每个稠密块使⽤多少个卷积层。这⾥我们设成4，从⽽与上⼀节的ResNet-18保持⼀致。稠密块⾥的卷\n",
    "积层通道数（即增⻓率）设为32，所以每个稠密块将增加128个通道。"
   ]
  },
  {
   "cell_type": "code",
   "execution_count": null,
   "id": "71180043",
   "metadata": {},
   "outputs": [],
   "source": [
    "num_channels, growth_rate = 64, 32 # num_channels为当前的通道数\n",
    "num_convs_in_dense_blocks = [4, 4, 4, 4]\n",
    "\n",
    "for i ,num_convs in enumerate(num_convs_in_dense_blocks):\n",
    "    DB = DenseBlock(num_convs,num_channels,growth_rate)\n",
    "    net.add_module(\"DenseBlock_%d\" % i,DB)\n",
    "    # 上一个稠密块的输出通道数\n",
    "    num_channels = DB.out_channels\n",
    "    #在稠密块之间加入通道数减半的过渡层\n",
    "    if i != len(num_convs_in_dense_blocks) - 1:\n",
    "        net.add_module(\"transition_block_%d\" % i,transition_block(num_channels,))"
   ]
  },
  {
   "cell_type": "code",
   "execution_count": null,
   "id": "c5f104a6",
   "metadata": {},
   "outputs": [],
   "source": []
  },
  {
   "cell_type": "code",
   "execution_count": null,
   "id": "a7110701",
   "metadata": {},
   "outputs": [],
   "source": []
  },
  {
   "cell_type": "code",
   "execution_count": null,
   "id": "9d89b979",
   "metadata": {},
   "outputs": [],
   "source": []
  },
  {
   "cell_type": "code",
   "execution_count": null,
   "id": "570789b1",
   "metadata": {},
   "outputs": [],
   "source": []
  },
  {
   "cell_type": "code",
   "execution_count": null,
   "id": "f338a433",
   "metadata": {},
   "outputs": [],
   "source": []
  },
  {
   "cell_type": "code",
   "execution_count": null,
   "id": "7af6d352",
   "metadata": {},
   "outputs": [],
   "source": []
  },
  {
   "cell_type": "code",
   "execution_count": null,
   "id": "23b5c742",
   "metadata": {},
   "outputs": [],
   "source": []
  },
  {
   "cell_type": "code",
   "execution_count": null,
   "id": "3f922372",
   "metadata": {},
   "outputs": [],
   "source": []
  }
 ],
 "metadata": {
  "kernelspec": {
   "display_name": "Python 3 (ipykernel)",
   "language": "python",
   "name": "python3"
  },
  "language_info": {
   "codemirror_mode": {
    "name": "ipython",
    "version": 3
   },
   "file_extension": ".py",
   "mimetype": "text/x-python",
   "name": "python",
   "nbconvert_exporter": "python",
   "pygments_lexer": "ipython3",
   "version": "3.7.11"
  }
 },
 "nbformat": 4,
 "nbformat_minor": 5
}
